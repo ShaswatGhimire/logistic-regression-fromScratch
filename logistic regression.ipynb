{
 "cells": [
  {
   "cell_type": "code",
   "execution_count": 1,
   "id": "d6b5c109",
   "metadata": {},
   "outputs": [],
   "source": [
    "import numpy as np\n",
    "import pandas as pd\n",
    "import matplotlib.pyplot as plt\n",
    "import scipy\n",
    "import copy\n",
    "from scipy import ndimage\n",
    "from PIL import Image\n",
    "import os"
   ]
  },
  {
   "cell_type": "code",
   "execution_count": 2,
   "id": "7cf3426f",
   "metadata": {},
   "outputs": [],
   "source": [
    "#setting the path for the folder to read ... \n",
    "path1 = 'F:\\code files\\machine learning\\dogs vs cats classification\\dataset'\n",
    "\n",
    "#setting important values \n",
    "height = 64\n",
    "width = 64"
   ]
  },
  {
   "cell_type": "code",
   "execution_count": 3,
   "id": "96f6ca5a",
   "metadata": {},
   "outputs": [],
   "source": [
    "#function to load images from directory into array\n",
    "def create_dataset(directory):\n",
    "    img_array = []\n",
    "    class_name = []\n",
    "    m = 0\n",
    "    \n",
    "    for dir1 in os.listdir(directory):\n",
    "        #print(dir1)\n",
    "        for file in os.listdir(os.path.join(directory,dir1)):\n",
    "            image_path = os.path.join(directory, dir1, file)\n",
    "            try:\n",
    "                image = np.array(Image.open(image_path))\n",
    "                image = np.resize(image, (height,width,3))\n",
    "                image = image.astype('float32')\n",
    "                image /= 255\n",
    "                img_array.append(image)\n",
    "                if dir1 == 'Dog':\n",
    "                    m = 1\n",
    "                else:\n",
    "                    m = 0\n",
    "                class_name.append(m)\n",
    "            except Valueerror as err:\n",
    "                pass\n",
    "    \n",
    "    return img_array, class_name\n",
    "            "
   ]
  },
  {
   "cell_type": "code",
   "execution_count": 4,
   "id": "2724d315",
   "metadata": {},
   "outputs": [
    {
     "name": "stderr",
     "output_type": "stream",
     "text": [
      "C:\\Users\\hp\\anaconda3\\lib\\site-packages\\PIL\\TiffImagePlugin.py:793: UserWarning: Truncated File Read\n",
      "  warnings.warn(str(msg))\n"
     ]
    }
   ],
   "source": [
    "#creating dataset and pre-processing the data\n",
    "X_train, Y_train = create_dataset(os.path.join(path1,'Train'))\n",
    "X_test, Y_test = create_dataset(os.path.join(path1,'Test'))\n",
    "\n",
    "m_test = len(X_test)\n",
    "m_train = len(X_train)\n",
    "\n",
    "#flattening data and setting approprate dimensions  i.e , (number of data ,  height*width*3)\n",
    "X_train_array = np.asarray(X_train).reshape(m_train, -1).T\n",
    "X_test_array = np.asarray(X_test).reshape(m_test, -1).T\n",
    "Y_train_array = np.asarray(Y_train).reshape(len(Y_train),1).T\n",
    "Y_test_array = np.asarray(Y_test).reshape(len(Y_test),1).T"
   ]
  },
  {
   "cell_type": "code",
   "execution_count": 5,
   "id": "64c1e9b4",
   "metadata": {},
   "outputs": [],
   "source": [
    "#NOW THE MODEL PART BEGINS \n",
    "\"\"\" we have to complete that in following parts \n",
    "a. forward propagation\n",
    "b. cost \n",
    "c. back propagation and update of parameters\n",
    "\n",
    "also some additional function will be helpful...\n",
    "i. sigmoid function\n",
    "ii. initialization of parameters\n",
    "\n",
    "then  we will make our model which will place this all together at one place... \n",
    "\"\"\"\n",
    "def sigmoid(z):\n",
    "    sig = 1 / (1 + np.exp(-z))\n",
    "    return sig"
   ]
  },
  {
   "cell_type": "code",
   "execution_count": 6,
   "id": "7aef9661",
   "metadata": {},
   "outputs": [],
   "source": [
    "def initialize_parameters(dim):\n",
    "    #we need to initialize weigths w to zeros of certain dimension and bias term w0 = b = 0\n",
    "    b = float(0)\n",
    "    w = np.zeros((dim,1))\n",
    "    return w,b"
   ]
  },
  {
   "cell_type": "code",
   "execution_count": 7,
   "id": "13ab4a80",
   "metadata": {},
   "outputs": [],
   "source": [
    "def forward_prop(X,w,b):\n",
    "    A = np.dot(w.T,X) + b\n",
    "    return sigmoid(A)"
   ]
  },
  {
   "cell_type": "code",
   "execution_count": 15,
   "id": "8aa5da25",
   "metadata": {},
   "outputs": [],
   "source": [
    "def cost(A,Y):\n",
    "    m = Y.shape[1]\n",
    "    #print(A.shape)\n",
    "    #print(Y.shape)\n",
    "    cost = np.sum(np.dot(Y,np.log(A).T) + np.dot((1-Y),np.log(1-A).T)) / (-m)\n",
    "    cost = np.squeeze(np.array(cost))\n",
    "    return cost"
   ]
  },
  {
   "cell_type": "code",
   "execution_count": 16,
   "id": "5455a669",
   "metadata": {},
   "outputs": [],
   "source": [
    "def back_prop(A, X, Y):\n",
    "    m = Y.shape[1]\n",
    "    db = np.sum(np.subtract(A,Y))/ m\n",
    "    dw = np.dot(X, np.subtract(A,Y).T)/m\n",
    "    return dw, db"
   ]
  },
  {
   "cell_type": "code",
   "execution_count": 17,
   "id": "0752bbc4",
   "metadata": {},
   "outputs": [],
   "source": [
    "def update_parameters(w,b,dw,db,learning_rate):\n",
    "    w = w - learning_rate * dw\n",
    "    b = b - learning_rate * db\n",
    "    return w,b"
   ]
  },
  {
   "cell_type": "code",
   "execution_count": 18,
   "id": "9a3e113b",
   "metadata": {},
   "outputs": [],
   "source": [
    "def optimize(X,Y,w,b,num_iterations=1000,learning_rate=0.01):\n",
    "    w = copy.deepcopy(w)\n",
    "    b = copy.deepcopy(b)\n",
    "    costs = []\n",
    "    for i in range(num_iterations):\n",
    "        A = forward_prop(X,w,b)\n",
    "        J = cost(A,Y)\n",
    "        if i%100 == 0:\n",
    "            print(f\"cost after {i}th iteration is :{J}\")\n",
    "        costs.append(J)\n",
    "        dw, db = back_prop(A,X,Y)\n",
    "        w,b = update_parameters(w,b,dw,db,learning_rate)\n",
    "    return w,b,costs\n",
    "        "
   ]
  },
  {
   "cell_type": "code",
   "execution_count": 19,
   "id": "e52e92e4",
   "metadata": {},
   "outputs": [],
   "source": [
    "def predict(X,w,b):\n",
    "    A = sigmoid(np.dot(w.T,X) + b)\n",
    "    Y_predict = np.where(A > 0.5, 0, 1)\n",
    "    return Y_predict"
   ]
  },
  {
   "cell_type": "code",
   "execution_count": 22,
   "id": "29a4e4b9",
   "metadata": {},
   "outputs": [],
   "source": [
    "def model(X_train, Y_train, X_test, Y_test,num_iterations=1000,learning_rate=0.001):\n",
    "    w,b = initialize_parameters(X_train.shape[0])\n",
    "    w,b,costs = optimize(X_train,Y_train, w,b, num_iterations=1000,learning_rate=0.001)\n",
    "    \n",
    "    Y_predict_test = predict(X_test,w,b)\n",
    "    Y_predict_train = predict(X_train,w,b)\n",
    "    \n",
    "    testa = 100 - np.mean(np.abs(Y_predict_test - Y_test)) * 100\n",
    "    traina = 100 - np.mean(np.abs(Y_predict_train - Y_train)) * 100\n",
    "    print(f\"the test accuracy is {testa} \")\n",
    "    print(f\"the train accuracy is {traina}\")\n",
    "    \n",
    "    "
   ]
  },
  {
   "cell_type": "code",
   "execution_count": 23,
   "id": "da20dff1",
   "metadata": {},
   "outputs": [
    {
     "name": "stdout",
     "output_type": "stream",
     "text": [
      "cost after 0th iteration is :0.6931471805599464\n",
      "cost after 100th iteration is :0.6905885552029964\n",
      "cost after 200th iteration is :0.6890574963262823\n",
      "cost after 300th iteration is :0.6880044923109803\n",
      "cost after 400th iteration is :0.6872371954352133\n",
      "cost after 500th iteration is :0.6866529433723969\n",
      "cost after 600th iteration is :0.6861908123710463\n",
      "cost after 700th iteration is :0.6858123631105563\n",
      "cost after 800th iteration is :0.6854924475888415\n",
      "cost after 900th iteration is :0.6852142268580647\n",
      "the test accuracy is 46.909090909090914 \n",
      "the train accuracy is 45.63328316908588\n"
     ]
    }
   ],
   "source": [
    "model(X_train_array, Y_train_array , X_test_array, Y_test_array)"
   ]
  },
  {
   "cell_type": "code",
   "execution_count": null,
   "id": "2d95e7e7",
   "metadata": {},
   "outputs": [],
   "source": []
  }
 ],
 "metadata": {
  "kernelspec": {
   "display_name": "Python 3",
   "language": "python",
   "name": "python3"
  },
  "language_info": {
   "codemirror_mode": {
    "name": "ipython",
    "version": 3
   },
   "file_extension": ".py",
   "mimetype": "text/x-python",
   "name": "python",
   "nbconvert_exporter": "python",
   "pygments_lexer": "ipython3",
   "version": "3.8.8"
  }
 },
 "nbformat": 4,
 "nbformat_minor": 5
}
