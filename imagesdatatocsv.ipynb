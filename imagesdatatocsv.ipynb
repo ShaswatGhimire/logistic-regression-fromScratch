{
 "cells": [
  {
   "cell_type": "code",
   "execution_count": 10,
   "id": "1689f7ec",
   "metadata": {},
   "outputs": [],
   "source": [
    "\"\"\"program to load data set of images and save into csv file... \n",
    " you can change the path of file to where images are located\n",
    " file directory in such way \n",
    " directory -> Train ->  Dog & Cat ... Test -> Dog & Cat\n",
    "\"\"\"\n",
    "\n",
    "\n",
    "\n",
    "#importing required packages\n",
    "import numpy as np\n",
    "import pandas as pd\n",
    "import matplotlib.pyplot as plt \n",
    "from PIL import Image\n",
    "import os"
   ]
  },
  {
   "cell_type": "code",
   "execution_count": 11,
   "id": "b81fb748",
   "metadata": {},
   "outputs": [],
   "source": [
    "#setting the path for the folder to read ... \n",
    "path1 = 'F:\\code files\\machine learning\\dogs vs cats classification\\dataset'\n"
   ]
  },
  {
   "cell_type": "code",
   "execution_count": 12,
   "id": "019f746d",
   "metadata": {},
   "outputs": [],
   "source": [
    "#setting the values of image size\n",
    "height = 64\n",
    "width = 64"
   ]
  },
  {
   "cell_type": "code",
   "execution_count": 13,
   "id": "8028326f",
   "metadata": {},
   "outputs": [],
   "source": [
    "def create_dataset(directory):\n",
    "    img_array = []\n",
    "    class_name = []\n",
    "    m = 0\n",
    "    \n",
    "    for dir1 in os.listdir(directory):\n",
    "        #print(dir1)\n",
    "        for file in os.listdir(os.path.join(directory,dir1)):\n",
    "            image_path = os.path.join(directory, dir1, file)\n",
    "            try:\n",
    "                image = np.array(Image.open(image_path))\n",
    "                image = np.resize(image, (height,width,3))\n",
    "                image = image.astype('float32')\n",
    "                image /= 255\n",
    "                img_array.append(image)\n",
    "                if dir1 == 'Dog':\n",
    "                    m = 1\n",
    "                else:\n",
    "                    m = 0\n",
    "                class_name.append(m)\n",
    "            except Valueerror as err:\n",
    "                pass\n",
    "    \n",
    "    return img_array, class_name\n",
    "            "
   ]
  },
  {
   "cell_type": "code",
   "execution_count": 14,
   "id": "7645467c",
   "metadata": {},
   "outputs": [],
   "source": [
    "#creating dataset\n",
    "X_train, Y_train = create_dataset(os.path.join(path1,'Train'))\n",
    "X_test, Y_test = create_dataset(os.path.join(path1,'Test'))"
   ]
  },
  {
   "cell_type": "code",
   "execution_count": 15,
   "id": "93b322c9",
   "metadata": {},
   "outputs": [],
   "source": [
    "#converting dataset of list to numpy array\n",
    "X_train = np.asarray(X_train)\n",
    "Y_train = np.asarray(Y_train)\n",
    "X_test = np.asarray(X_test)\n",
    "Y_test = np.asarray(Y_test)"
   ]
  },
  {
   "cell_type": "code",
   "execution_count": 16,
   "id": "d2814ad5",
   "metadata": {},
   "outputs": [],
   "source": [
    "#converting it into a list of tuples \n",
    "list_of_tuples = list(zip(X_train, Y_train)) \n",
    "\n",
    "# Converting lists of tuples into pandas Dataframe. \n",
    "DF = pd.DataFrame(list_of_tuples,\n",
    "                  columns = ['X_train', 'Y_train']) \n",
    "     \n",
    "\n",
    "# save the dataframe as a csv file\n",
    "DF.to_csv(\"csvtraindata.csv\")\n",
    "\n",
    "\n",
    "#converting it into a list of tuples \n",
    "list_of_tuples = list(zip(X_test, Y_test)) \n",
    "\n",
    "# Converting lists of tuples into pandas Dataframe. \n",
    "DF = pd.DataFrame(list_of_tuples,\n",
    "                  columns = ['X_test', 'Y_test']) \n",
    "     \n",
    "\n",
    "# save the dataframe as a csv file\n",
    "DF.to_csv(\"csvtestdata.csv\")"
   ]
  },
  {
   "cell_type": "code",
   "execution_count": null,
   "id": "f96c1466",
   "metadata": {},
   "outputs": [],
   "source": []
  },
  {
   "cell_type": "code",
   "execution_count": null,
   "id": "aad9a8f8",
   "metadata": {},
   "outputs": [],
   "source": []
  }
 ],
 "metadata": {
  "kernelspec": {
   "display_name": "Python 3",
   "language": "python",
   "name": "python3"
  },
  "language_info": {
   "codemirror_mode": {
    "name": "ipython",
    "version": 3
   },
   "file_extension": ".py",
   "mimetype": "text/x-python",
   "name": "python",
   "nbconvert_exporter": "python",
   "pygments_lexer": "ipython3",
   "version": "3.8.8"
  }
 },
 "nbformat": 4,
 "nbformat_minor": 5
}
